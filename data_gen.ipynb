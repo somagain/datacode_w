{
 "cells": [
  {
   "cell_type": "code",
   "execution_count": 1,
   "metadata": {},
   "outputs": [],
   "source": [
    "import pandas as pd\n",
    "import numpy as np"
   ]
  },
  {
   "cell_type": "code",
   "execution_count": 27,
   "metadata": {},
   "outputs": [],
   "source": [
    "\n",
    "\n",
    "# Define the data science disciplines and abbreviations\n",
    "disciplines = [\n",
    "    \"Data Scientist\",\n",
    "    \"Machine Learning Engineer\",\n",
    "    \"Data Engineer\",\n",
    "    \"Research Scientist\",\n",
    "    \"Data Analyst\",\n",
    "    \"Research Engineer\",\n",
    "    \"Analytics Engineer\",\n",
    "    \"Applied Scientist\",\n",
    "    \"AI Developer\",\n",
    "    \"Business Intelligence Analyst\",\n",
    "    \"Data Architect\"\n",
    "]\n",
    "\n",
    "abbreviations = [\n",
    "    \"DS\",\n",
    "    \"MLE\",\n",
    "    \"DE\",\n",
    "    \"RS\",\n",
    "    \"DA\",\n",
    "    \"RE\",\n",
    "    \"AE\",\n",
    "    \"AS\",\n",
    "    \"AID\",\n",
    "    \"BIA\",\n",
    "    \"DA\"\n",
    "]\n",
    "\n",
    "# Define the annual pay packages for each role (sample values in USD)\n",
    "annual_pay = [\n",
    "    120000,  # Data Scientist\n",
    "    115000,  # Machine Learning Engineer\n",
    "    110000,  # Data Engineer\n",
    "    105000,  # Research Scientist\n",
    "    90000,   # Data Analyst\n",
    "    95000,   # Research Engineer\n",
    "    100000,  # Analytics Engineer\n",
    "    108000,  # Applied Scientist\n",
    "    125000,  # AI Developer\n",
    "    95000,   # Business Intelligence Analyst\n",
    "    130000   # Data Architect\n",
    "]\n",
    "\n",
    "# Generate random salary data for the last 20 years\n",
    "np.random.seed(42)  # Set seed for reproducibility\n",
    "years = 20\n",
    "salary_data = {f\"Year_{year}\": np.random.randint(low=annual - 20000, high=annual + 25000, size=len(disciplines))\n",
    "               for year, annual in zip(range(2013, 2025), annual_pay)}\n",
    "\n",
    "# Create DataFrame\n",
    "data = {\n",
    "    \"Data Science Discipline\": disciplines,\n",
    "    \"Abbreviation\": abbreviations,\n",
    "    \"Annual Pay Package (USD)\": annual_pay,\n",
    "}\n",
    "data.update(salary_data)\n",
    "\n"
   ]
  },
  {
   "cell_type": "code",
   "execution_count": 24,
   "metadata": {},
   "outputs": [],
   "source": [
    "df = pd.DataFrame(data)"
   ]
  },
  {
   "cell_type": "code",
   "execution_count": 25,
   "metadata": {},
   "outputs": [
    {
     "name": "stdout",
     "output_type": "stream",
     "text": [
      "          Data Science Discipline Abbreviation  Annual Pay Package (USD)  \\\n",
      "0                  Data Scientist           DS                    120000   \n",
      "1       Machine Learning Engineer          MLE                    115000   \n",
      "2                   Data Engineer           DE                    110000   \n",
      "3              Research Scientist           RS                    105000   \n",
      "4                    Data Analyst           DA                     90000   \n",
      "5               Research Engineer           RE                     95000   \n",
      "6              Analytics Engineer           AE                    100000   \n",
      "7               Applied Scientist           AS                    108000   \n",
      "8                    AI Developer          AID                    125000   \n",
      "9   Business Intelligence Analyst          BIA                     95000   \n",
      "10                 Data Architect           DA                    130000   \n",
      "\n",
      "    Year_20  \n",
      "0    127412  \n",
      "1    143270  \n",
      "2    116910  \n",
      "3    135446  \n",
      "4    110206  \n",
      "5    131518  \n",
      "6    132361  \n",
      "7    133419  \n",
      "8    132403  \n",
      "9    128141  \n",
      "10   124820  \n"
     ]
    }
   ],
   "source": [
    "# Display the DataFrame\n",
    "print(df)\n"
   ]
  },
  {
   "cell_type": "code",
   "execution_count": 26,
   "metadata": {},
   "outputs": [
    {
     "data": {
      "text/html": [
       "<div>\n",
       "<style scoped>\n",
       "    .dataframe tbody tr th:only-of-type {\n",
       "        vertical-align: middle;\n",
       "    }\n",
       "\n",
       "    .dataframe tbody tr th {\n",
       "        vertical-align: top;\n",
       "    }\n",
       "\n",
       "    .dataframe thead th {\n",
       "        text-align: right;\n",
       "    }\n",
       "</style>\n",
       "<table border=\"1\" class=\"dataframe\">\n",
       "  <thead>\n",
       "    <tr style=\"text-align: right;\">\n",
       "      <th></th>\n",
       "      <th>Data Science Discipline</th>\n",
       "      <th>Abbreviation</th>\n",
       "      <th>Annual Pay Package (USD)</th>\n",
       "      <th>Year_20</th>\n",
       "    </tr>\n",
       "  </thead>\n",
       "  <tbody>\n",
       "    <tr>\n",
       "      <th>0</th>\n",
       "      <td>Data Scientist</td>\n",
       "      <td>DS</td>\n",
       "      <td>120000</td>\n",
       "      <td>127412</td>\n",
       "    </tr>\n",
       "    <tr>\n",
       "      <th>1</th>\n",
       "      <td>Machine Learning Engineer</td>\n",
       "      <td>MLE</td>\n",
       "      <td>115000</td>\n",
       "      <td>143270</td>\n",
       "    </tr>\n",
       "    <tr>\n",
       "      <th>2</th>\n",
       "      <td>Data Engineer</td>\n",
       "      <td>DE</td>\n",
       "      <td>110000</td>\n",
       "      <td>116910</td>\n",
       "    </tr>\n",
       "    <tr>\n",
       "      <th>3</th>\n",
       "      <td>Research Scientist</td>\n",
       "      <td>RS</td>\n",
       "      <td>105000</td>\n",
       "      <td>135446</td>\n",
       "    </tr>\n",
       "    <tr>\n",
       "      <th>4</th>\n",
       "      <td>Data Analyst</td>\n",
       "      <td>DA</td>\n",
       "      <td>90000</td>\n",
       "      <td>110206</td>\n",
       "    </tr>\n",
       "    <tr>\n",
       "      <th>5</th>\n",
       "      <td>Research Engineer</td>\n",
       "      <td>RE</td>\n",
       "      <td>95000</td>\n",
       "      <td>131518</td>\n",
       "    </tr>\n",
       "    <tr>\n",
       "      <th>6</th>\n",
       "      <td>Analytics Engineer</td>\n",
       "      <td>AE</td>\n",
       "      <td>100000</td>\n",
       "      <td>132361</td>\n",
       "    </tr>\n",
       "    <tr>\n",
       "      <th>7</th>\n",
       "      <td>Applied Scientist</td>\n",
       "      <td>AS</td>\n",
       "      <td>108000</td>\n",
       "      <td>133419</td>\n",
       "    </tr>\n",
       "    <tr>\n",
       "      <th>8</th>\n",
       "      <td>AI Developer</td>\n",
       "      <td>AID</td>\n",
       "      <td>125000</td>\n",
       "      <td>132403</td>\n",
       "    </tr>\n",
       "    <tr>\n",
       "      <th>9</th>\n",
       "      <td>Business Intelligence Analyst</td>\n",
       "      <td>BIA</td>\n",
       "      <td>95000</td>\n",
       "      <td>128141</td>\n",
       "    </tr>\n",
       "    <tr>\n",
       "      <th>10</th>\n",
       "      <td>Data Architect</td>\n",
       "      <td>DA</td>\n",
       "      <td>130000</td>\n",
       "      <td>124820</td>\n",
       "    </tr>\n",
       "  </tbody>\n",
       "</table>\n",
       "</div>"
      ],
      "text/plain": [
       "          Data Science Discipline Abbreviation  Annual Pay Package (USD)  \\\n",
       "0                  Data Scientist           DS                    120000   \n",
       "1       Machine Learning Engineer          MLE                    115000   \n",
       "2                   Data Engineer           DE                    110000   \n",
       "3              Research Scientist           RS                    105000   \n",
       "4                    Data Analyst           DA                     90000   \n",
       "5               Research Engineer           RE                     95000   \n",
       "6              Analytics Engineer           AE                    100000   \n",
       "7               Applied Scientist           AS                    108000   \n",
       "8                    AI Developer          AID                    125000   \n",
       "9   Business Intelligence Analyst          BIA                     95000   \n",
       "10                 Data Architect           DA                    130000   \n",
       "\n",
       "    Year_20  \n",
       "0    127412  \n",
       "1    143270  \n",
       "2    116910  \n",
       "3    135446  \n",
       "4    110206  \n",
       "5    131518  \n",
       "6    132361  \n",
       "7    133419  \n",
       "8    132403  \n",
       "9    128141  \n",
       "10   124820  "
      ]
     },
     "execution_count": 26,
     "metadata": {},
     "output_type": "execute_result"
    }
   ],
   "source": [
    "df.head(11)"
   ]
  },
  {
   "cell_type": "code",
   "execution_count": 22,
   "metadata": {},
   "outputs": [
    {
     "name": "stdout",
     "output_type": "stream",
     "text": [
      "<class 'pandas.core.frame.DataFrame'>\n",
      "RangeIndex: 11 entries, 0 to 10\n",
      "Data columns (total 14 columns):\n",
      " #   Column                    Non-Null Count  Dtype \n",
      "---  ------                    --------------  ----- \n",
      " 0   Data Science Discipline   11 non-null     object\n",
      " 1   Abbreviation              11 non-null     object\n",
      " 2   Annual Pay Package (USD)  11 non-null     int64 \n",
      " 3   Year_2013                 11 non-null     int32 \n",
      " 4   Year_2014                 11 non-null     int32 \n",
      " 5   Year_2015                 11 non-null     int32 \n",
      " 6   Year_2016                 11 non-null     int32 \n",
      " 7   Year_2017                 11 non-null     int32 \n",
      " 8   Year_2018                 11 non-null     int32 \n",
      " 9   Year_2019                 11 non-null     int32 \n",
      " 10  Year_2020                 11 non-null     int32 \n",
      " 11  Year_2021                 11 non-null     int32 \n",
      " 12  Year_2022                 11 non-null     int32 \n",
      " 13  Year_2023                 11 non-null     int32 \n",
      "dtypes: int32(11), int64(1), object(2)\n",
      "memory usage: 880.0+ bytes\n"
     ]
    }
   ],
   "source": [
    "df.info()"
   ]
  },
  {
   "cell_type": "code",
   "execution_count": null,
   "metadata": {},
   "outputs": [],
   "source": []
  },
  {
   "cell_type": "code",
   "execution_count": null,
   "metadata": {},
   "outputs": [],
   "source": []
  },
  {
   "cell_type": "code",
   "execution_count": null,
   "metadata": {},
   "outputs": [],
   "source": []
  },
  {
   "cell_type": "code",
   "execution_count": null,
   "metadata": {},
   "outputs": [],
   "source": []
  },
  {
   "cell_type": "code",
   "execution_count": null,
   "metadata": {},
   "outputs": [],
   "source": []
  },
  {
   "cell_type": "code",
   "execution_count": null,
   "metadata": {},
   "outputs": [],
   "source": []
  },
  {
   "cell_type": "code",
   "execution_count": null,
   "metadata": {},
   "outputs": [],
   "source": []
  },
  {
   "cell_type": "code",
   "execution_count": null,
   "metadata": {},
   "outputs": [],
   "source": []
  },
  {
   "cell_type": "code",
   "execution_count": null,
   "metadata": {},
   "outputs": [],
   "source": []
  },
  {
   "cell_type": "code",
   "execution_count": null,
   "metadata": {},
   "outputs": [],
   "source": []
  },
  {
   "cell_type": "code",
   "execution_count": null,
   "metadata": {},
   "outputs": [],
   "source": []
  },
  {
   "cell_type": "code",
   "execution_count": null,
   "metadata": {},
   "outputs": [],
   "source": []
  },
  {
   "cell_type": "code",
   "execution_count": null,
   "metadata": {},
   "outputs": [],
   "source": []
  },
  {
   "cell_type": "code",
   "execution_count": null,
   "metadata": {},
   "outputs": [],
   "source": []
  },
  {
   "cell_type": "code",
   "execution_count": null,
   "metadata": {},
   "outputs": [],
   "source": []
  },
  {
   "cell_type": "code",
   "execution_count": null,
   "metadata": {},
   "outputs": [],
   "source": []
  },
  {
   "cell_type": "code",
   "execution_count": null,
   "metadata": {},
   "outputs": [],
   "source": []
  }
 ],
 "metadata": {
  "kernelspec": {
   "display_name": "base",
   "language": "python",
   "name": "python3"
  },
  "language_info": {
   "codemirror_mode": {
    "name": "ipython",
    "version": 3
   },
   "file_extension": ".py",
   "mimetype": "text/x-python",
   "name": "python",
   "nbconvert_exporter": "python",
   "pygments_lexer": "ipython3",
   "version": "3.11.4"
  }
 },
 "nbformat": 4,
 "nbformat_minor": 2
}
